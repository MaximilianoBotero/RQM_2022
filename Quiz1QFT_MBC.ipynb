{
  "nbformat": 4,
  "nbformat_minor": 0,
  "metadata": {
    "colab": {
      "name": "Quiz1QFT-MBC.ipynb",
      "provenance": [],
      "collapsed_sections": [],
      "authorship_tag": "ABX9TyNj4wHM3zK8ipu5EMAFdFhP",
      "include_colab_link": true
    },
    "kernelspec": {
      "name": "python3",
      "display_name": "Python 3"
    },
    "language_info": {
      "name": "python"
    }
  },
  "cells": [
    {
      "cell_type": "markdown",
      "metadata": {
        "id": "view-in-github",
        "colab_type": "text"
      },
      "source": [
        "<a href=\"https://colab.research.google.com/github/MaximilianoBotero/RQM_2022/blob/main/Quiz1QFT_MBC.ipynb\" target=\"_parent\"><img src=\"https://colab.research.google.com/assets/colab-badge.svg\" alt=\"Open In Colab\"/></a>"
      ]
    },
    {
      "cell_type": "code",
      "execution_count": 1,
      "metadata": {
        "id": "uLRgTgf2STfU",
        "colab": {
          "base_uri": "https://localhost:8080/",
          "height": 130
        },
        "outputId": "5b3a6cd5-0d99-4427-bf17-6bc9d56df251"
      },
      "outputs": [
        {
          "output_type": "error",
          "ename": "SyntaxError",
          "evalue": "ignored",
          "traceback": [
            "\u001b[0;36m  File \u001b[0;32m\"<ipython-input-1-d222bc93a885>\"\u001b[0;36m, line \u001b[0;32m2\u001b[0m\n\u001b[0;31m    using LinearAlgebra\u001b[0m\n\u001b[0m                      ^\u001b[0m\n\u001b[0;31mSyntaxError\u001b[0m\u001b[0;31m:\u001b[0m invalid syntax\n"
          ]
        }
      ],
      "source": [
        "#Quiz Nro1 QFT: Considere un electron de masa m y carga q confinado a estar en una region unidimensional de lado L. La energia potencial dentro de la region es U=Uo, y por fuera es infinita.\n",
        "#               En las fronteras de la region, la funcion de onda satisface condiciones de frontera tipo Dirichlet (phi(0,t)=phi(L,t)=0). Si la probabilidad de encontrar la particula en todo\n",
        "#               el cubo es 1, determine: A) Las autofunciones y autoenergias. B) la densidad de probabilidad.\n",
        "##############################################################################################################################################################################################\n",
        "#  *Usare diferencias finitas, y la ayuda de mis compañeros *cof* *cof*\n",
        "\n",
        "using LinearAlgebra\n",
        "using Plots; gr()"
      ]
    },
    {
      "cell_type": "code",
      "source": [
        "x = -2:0.0002:2                                                                  #Cantidad de puntos en los que se va a discretizar el ancho del cubo unidimensional\n",
        "\n",
        "function KG_eq(n::Int64)\n",
        "    global x                                                                    \n",
        "    N = size(x,1) \n",
        "    Dx = zeros(Float64,N,N)                                                     #La matriz de las segundas derivadas caracteristica del metodo utilizado \n",
        "\n",
        "    for j in 1:N, i in 1:N\n",
        "        if(i==j) Dx[i,j] = -2\n",
        "        elseif (abs(i-j) <= 1) Dx[i,j] = 1\n",
        "        end \n",
        "    end\n",
        "\n",
        "    H = zeros(Float64,N,N)                                                      #Ahora se arma la matriz Hamiltoniana.\n",
        "    H = .- Dx\n",
        "    val = eigvals(H)                                                            #Hallamos las autofunciones y autoenergias diagonalizando H.\n",
        "    vec = eigvecs(H)\n",
        "    E_prime = sort!(val)\n",
        "    E_prime = E_prime[1:5] \n",
        "    energies = (E_prime./E_prime[1])                                            #Normalizacion de las E_prime\"\n",
        "\n",
        "\n",
        "    return vec[:,n], energies \n",
        "end\n",
        "\n",
        "#eigenfunc, energies = KG_eq(1)"
      ],
      "metadata": {
        "id": "Wu8VnesdSlmf"
      },
      "execution_count": null,
      "outputs": []
    },
    {
      "cell_type": "code",
      "source": [
        "eigenfunc, energies = KG_eq(1)                                                  #Se imprimen las energiax"
      ],
      "metadata": {
        "id": "JuK58mo5ey-m"
      },
      "execution_count": null,
      "outputs": []
    },
    {
      "cell_type": "code",
      "source": [
        "plot(x,eigenfunc,lw=2,lab=\"Función de onda\",ylabel=L\"\\phi\",xlabel=L\"x\")         #Finalmente la funcion de onda graficada"
      ],
      "metadata": {
        "id": "3cQLBk10e7jX"
      },
      "execution_count": null,
      "outputs": []
    },
    {
      "cell_type": "code",
      "source": [
        ""
      ],
      "metadata": {
        "id": "FEakCzBJe9rd"
      },
      "execution_count": null,
      "outputs": []
    },
    {
      "cell_type": "code",
      "source": [
        ""
      ],
      "metadata": {
        "id": "AW3gVJnDe-S0"
      },
      "execution_count": null,
      "outputs": []
    },
    {
      "cell_type": "code",
      "source": [
        ""
      ],
      "metadata": {
        "id": "y7CIykCcfBy7"
      },
      "execution_count": null,
      "outputs": []
    },
    {
      "cell_type": "code",
      "source": [
        ""
      ],
      "metadata": {
        "id": "jKC1TREqfVVh"
      },
      "execution_count": null,
      "outputs": []
    },
    {
      "cell_type": "code",
      "source": [
        ""
      ],
      "metadata": {
        "id": "i6M5ZRLcgLWL"
      },
      "execution_count": null,
      "outputs": []
    }
  ]
}